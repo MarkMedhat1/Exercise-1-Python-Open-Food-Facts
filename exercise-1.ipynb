{
 "cells": [
  {
   "cell_type": "markdown",
   "id": "52adf955",
   "metadata": {
    "papermill": {
     "duration": 0.00838,
     "end_time": "2024-03-17T19:31:03.383325",
     "exception": false,
     "start_time": "2024-03-17T19:31:03.374945",
     "status": "completed"
    },
    "tags": []
   },
   "source": [
    "# Exercise 1"
   ]
  },
  {
   "cell_type": "markdown",
   "id": "6e445254",
   "metadata": {
    "papermill": {
     "duration": 0.006817,
     "end_time": "2024-03-17T19:31:03.397565",
     "exception": false,
     "start_time": "2024-03-17T19:31:03.390748",
     "status": "completed"
    },
    "tags": []
   },
   "source": [
    "### Step 1. Go to https://www.kaggle.com/openfoodfacts/world-food-facts/data"
   ]
  },
  {
   "cell_type": "markdown",
   "id": "2aafc741",
   "metadata": {
    "papermill": {
     "duration": 0.006717,
     "end_time": "2024-03-17T19:31:03.411462",
     "exception": false,
     "start_time": "2024-03-17T19:31:03.404745",
     "status": "completed"
    },
    "tags": []
   },
   "source": [
    "### Step 2. Download the dataset to your computer and unzip it."
   ]
  },
  {
   "cell_type": "markdown",
   "id": "34366f83",
   "metadata": {
    "papermill": {
     "duration": 0.007072,
     "end_time": "2024-03-17T19:31:03.426375",
     "exception": false,
     "start_time": "2024-03-17T19:31:03.419303",
     "status": "completed"
    },
    "tags": []
   },
   "source": [
    "### Step 3. Use the tsv file and assign it to a dataframe called food"
   ]
  },
  {
   "cell_type": "code",
   "execution_count": 1,
   "id": "593f51f9",
   "metadata": {
    "execution": {
     "iopub.execute_input": "2024-03-17T19:31:03.445631Z",
     "iopub.status.busy": "2024-03-17T19:31:03.444804Z",
     "iopub.status.idle": "2024-03-17T19:31:04.385539Z",
     "shell.execute_reply": "2024-03-17T19:31:04.384124Z"
    },
    "papermill": {
     "duration": 0.955043,
     "end_time": "2024-03-17T19:31:04.388594",
     "exception": false,
     "start_time": "2024-03-17T19:31:03.433551",
     "status": "completed"
    },
    "tags": []
   },
   "outputs": [],
   "source": [
    "import pandas as pd\n"
   ]
  },
  {
   "cell_type": "code",
   "execution_count": 2,
   "id": "9664c18e",
   "metadata": {
    "execution": {
     "iopub.execute_input": "2024-03-17T19:31:04.406901Z",
     "iopub.status.busy": "2024-03-17T19:31:04.405672Z",
     "iopub.status.idle": "2024-03-17T19:31:49.686667Z",
     "shell.execute_reply": "2024-03-17T19:31:49.685440Z"
    },
    "papermill": {
     "duration": 45.293178,
     "end_time": "2024-03-17T19:31:49.689874",
     "exception": false,
     "start_time": "2024-03-17T19:31:04.396696",
     "status": "completed"
    },
    "tags": []
   },
   "outputs": [],
   "source": [
    "\n",
    "\n",
    "food = pd.read_csv(\"/kaggle/input/world-food-facts/en.openfoodfacts.org.products.tsv\", sep=\"\\t\",dtype=str, low_memory=False)\n",
    "\n",
    "\n"
   ]
  },
  {
   "cell_type": "markdown",
   "id": "467114f0",
   "metadata": {
    "papermill": {
     "duration": 0.006839,
     "end_time": "2024-03-17T19:31:49.704262",
     "exception": false,
     "start_time": "2024-03-17T19:31:49.697423",
     "status": "completed"
    },
    "tags": []
   },
   "source": [
    "### Step 4. See the first 5 entries"
   ]
  },
  {
   "cell_type": "code",
   "execution_count": 3,
   "id": "a4b75631",
   "metadata": {
    "execution": {
     "iopub.execute_input": "2024-03-17T19:31:49.720430Z",
     "iopub.status.busy": "2024-03-17T19:31:49.719999Z",
     "iopub.status.idle": "2024-03-17T19:31:49.754051Z",
     "shell.execute_reply": "2024-03-17T19:31:49.752661Z"
    },
    "papermill": {
     "duration": 0.045111,
     "end_time": "2024-03-17T19:31:49.756494",
     "exception": false,
     "start_time": "2024-03-17T19:31:49.711383",
     "status": "completed"
    },
    "tags": []
   },
   "outputs": [
    {
     "data": {
      "text/html": [
       "<div>\n",
       "<style scoped>\n",
       "    .dataframe tbody tr th:only-of-type {\n",
       "        vertical-align: middle;\n",
       "    }\n",
       "\n",
       "    .dataframe tbody tr th {\n",
       "        vertical-align: top;\n",
       "    }\n",
       "\n",
       "    .dataframe thead th {\n",
       "        text-align: right;\n",
       "    }\n",
       "</style>\n",
       "<table border=\"1\" class=\"dataframe\">\n",
       "  <thead>\n",
       "    <tr style=\"text-align: right;\">\n",
       "      <th></th>\n",
       "      <th>code</th>\n",
       "      <th>url</th>\n",
       "      <th>creator</th>\n",
       "      <th>created_t</th>\n",
       "      <th>created_datetime</th>\n",
       "      <th>last_modified_t</th>\n",
       "      <th>last_modified_datetime</th>\n",
       "      <th>product_name</th>\n",
       "      <th>generic_name</th>\n",
       "      <th>quantity</th>\n",
       "      <th>...</th>\n",
       "      <th>fruits-vegetables-nuts_100g</th>\n",
       "      <th>fruits-vegetables-nuts-estimate_100g</th>\n",
       "      <th>collagen-meat-protein-ratio_100g</th>\n",
       "      <th>cocoa_100g</th>\n",
       "      <th>chlorophyl_100g</th>\n",
       "      <th>carbon-footprint_100g</th>\n",
       "      <th>nutrition-score-fr_100g</th>\n",
       "      <th>nutrition-score-uk_100g</th>\n",
       "      <th>glycemic-index_100g</th>\n",
       "      <th>water-hardness_100g</th>\n",
       "    </tr>\n",
       "  </thead>\n",
       "  <tbody>\n",
       "    <tr>\n",
       "      <th>0</th>\n",
       "      <td>0000000003087</td>\n",
       "      <td>http://world-en.openfoodfacts.org/product/0000...</td>\n",
       "      <td>openfoodfacts-contributors</td>\n",
       "      <td>1474103866</td>\n",
       "      <td>2016-09-17T09:17:46Z</td>\n",
       "      <td>1474103893</td>\n",
       "      <td>2016-09-17T09:18:13Z</td>\n",
       "      <td>Farine de blé noir</td>\n",
       "      <td>NaN</td>\n",
       "      <td>1kg</td>\n",
       "      <td>...</td>\n",
       "      <td>NaN</td>\n",
       "      <td>NaN</td>\n",
       "      <td>NaN</td>\n",
       "      <td>NaN</td>\n",
       "      <td>NaN</td>\n",
       "      <td>NaN</td>\n",
       "      <td>NaN</td>\n",
       "      <td>NaN</td>\n",
       "      <td>NaN</td>\n",
       "      <td>NaN</td>\n",
       "    </tr>\n",
       "    <tr>\n",
       "      <th>1</th>\n",
       "      <td>0000000004530</td>\n",
       "      <td>http://world-en.openfoodfacts.org/product/0000...</td>\n",
       "      <td>usda-ndb-import</td>\n",
       "      <td>1489069957</td>\n",
       "      <td>2017-03-09T14:32:37Z</td>\n",
       "      <td>1489069957</td>\n",
       "      <td>2017-03-09T14:32:37Z</td>\n",
       "      <td>Banana Chips Sweetened (Whole)</td>\n",
       "      <td>NaN</td>\n",
       "      <td>NaN</td>\n",
       "      <td>...</td>\n",
       "      <td>NaN</td>\n",
       "      <td>NaN</td>\n",
       "      <td>NaN</td>\n",
       "      <td>NaN</td>\n",
       "      <td>NaN</td>\n",
       "      <td>NaN</td>\n",
       "      <td>14</td>\n",
       "      <td>14</td>\n",
       "      <td>NaN</td>\n",
       "      <td>NaN</td>\n",
       "    </tr>\n",
       "    <tr>\n",
       "      <th>2</th>\n",
       "      <td>0000000004559</td>\n",
       "      <td>http://world-en.openfoodfacts.org/product/0000...</td>\n",
       "      <td>usda-ndb-import</td>\n",
       "      <td>1489069957</td>\n",
       "      <td>2017-03-09T14:32:37Z</td>\n",
       "      <td>1489069957</td>\n",
       "      <td>2017-03-09T14:32:37Z</td>\n",
       "      <td>Peanuts</td>\n",
       "      <td>NaN</td>\n",
       "      <td>NaN</td>\n",
       "      <td>...</td>\n",
       "      <td>NaN</td>\n",
       "      <td>NaN</td>\n",
       "      <td>NaN</td>\n",
       "      <td>NaN</td>\n",
       "      <td>NaN</td>\n",
       "      <td>NaN</td>\n",
       "      <td>0</td>\n",
       "      <td>0</td>\n",
       "      <td>NaN</td>\n",
       "      <td>NaN</td>\n",
       "    </tr>\n",
       "    <tr>\n",
       "      <th>3</th>\n",
       "      <td>0000000016087</td>\n",
       "      <td>http://world-en.openfoodfacts.org/product/0000...</td>\n",
       "      <td>usda-ndb-import</td>\n",
       "      <td>1489055731</td>\n",
       "      <td>2017-03-09T10:35:31Z</td>\n",
       "      <td>1489055731</td>\n",
       "      <td>2017-03-09T10:35:31Z</td>\n",
       "      <td>Organic Salted Nut Mix</td>\n",
       "      <td>NaN</td>\n",
       "      <td>NaN</td>\n",
       "      <td>...</td>\n",
       "      <td>NaN</td>\n",
       "      <td>NaN</td>\n",
       "      <td>NaN</td>\n",
       "      <td>NaN</td>\n",
       "      <td>NaN</td>\n",
       "      <td>NaN</td>\n",
       "      <td>12</td>\n",
       "      <td>12</td>\n",
       "      <td>NaN</td>\n",
       "      <td>NaN</td>\n",
       "    </tr>\n",
       "    <tr>\n",
       "      <th>4</th>\n",
       "      <td>0000000016094</td>\n",
       "      <td>http://world-en.openfoodfacts.org/product/0000...</td>\n",
       "      <td>usda-ndb-import</td>\n",
       "      <td>1489055653</td>\n",
       "      <td>2017-03-09T10:34:13Z</td>\n",
       "      <td>1489055653</td>\n",
       "      <td>2017-03-09T10:34:13Z</td>\n",
       "      <td>Organic Polenta</td>\n",
       "      <td>NaN</td>\n",
       "      <td>NaN</td>\n",
       "      <td>...</td>\n",
       "      <td>NaN</td>\n",
       "      <td>NaN</td>\n",
       "      <td>NaN</td>\n",
       "      <td>NaN</td>\n",
       "      <td>NaN</td>\n",
       "      <td>NaN</td>\n",
       "      <td>NaN</td>\n",
       "      <td>NaN</td>\n",
       "      <td>NaN</td>\n",
       "      <td>NaN</td>\n",
       "    </tr>\n",
       "  </tbody>\n",
       "</table>\n",
       "<p>5 rows × 163 columns</p>\n",
       "</div>"
      ],
      "text/plain": [
       "            code                                                url  \\\n",
       "0  0000000003087  http://world-en.openfoodfacts.org/product/0000...   \n",
       "1  0000000004530  http://world-en.openfoodfacts.org/product/0000...   \n",
       "2  0000000004559  http://world-en.openfoodfacts.org/product/0000...   \n",
       "3  0000000016087  http://world-en.openfoodfacts.org/product/0000...   \n",
       "4  0000000016094  http://world-en.openfoodfacts.org/product/0000...   \n",
       "\n",
       "                      creator   created_t      created_datetime  \\\n",
       "0  openfoodfacts-contributors  1474103866  2016-09-17T09:17:46Z   \n",
       "1             usda-ndb-import  1489069957  2017-03-09T14:32:37Z   \n",
       "2             usda-ndb-import  1489069957  2017-03-09T14:32:37Z   \n",
       "3             usda-ndb-import  1489055731  2017-03-09T10:35:31Z   \n",
       "4             usda-ndb-import  1489055653  2017-03-09T10:34:13Z   \n",
       "\n",
       "  last_modified_t last_modified_datetime                    product_name  \\\n",
       "0      1474103893   2016-09-17T09:18:13Z              Farine de blé noir   \n",
       "1      1489069957   2017-03-09T14:32:37Z  Banana Chips Sweetened (Whole)   \n",
       "2      1489069957   2017-03-09T14:32:37Z                         Peanuts   \n",
       "3      1489055731   2017-03-09T10:35:31Z          Organic Salted Nut Mix   \n",
       "4      1489055653   2017-03-09T10:34:13Z                 Organic Polenta   \n",
       "\n",
       "  generic_name quantity  ... fruits-vegetables-nuts_100g  \\\n",
       "0          NaN      1kg  ...                         NaN   \n",
       "1          NaN      NaN  ...                         NaN   \n",
       "2          NaN      NaN  ...                         NaN   \n",
       "3          NaN      NaN  ...                         NaN   \n",
       "4          NaN      NaN  ...                         NaN   \n",
       "\n",
       "  fruits-vegetables-nuts-estimate_100g collagen-meat-protein-ratio_100g  \\\n",
       "0                                  NaN                              NaN   \n",
       "1                                  NaN                              NaN   \n",
       "2                                  NaN                              NaN   \n",
       "3                                  NaN                              NaN   \n",
       "4                                  NaN                              NaN   \n",
       "\n",
       "  cocoa_100g chlorophyl_100g carbon-footprint_100g nutrition-score-fr_100g  \\\n",
       "0        NaN             NaN                   NaN                     NaN   \n",
       "1        NaN             NaN                   NaN                      14   \n",
       "2        NaN             NaN                   NaN                       0   \n",
       "3        NaN             NaN                   NaN                      12   \n",
       "4        NaN             NaN                   NaN                     NaN   \n",
       "\n",
       "  nutrition-score-uk_100g glycemic-index_100g water-hardness_100g  \n",
       "0                     NaN                 NaN                 NaN  \n",
       "1                      14                 NaN                 NaN  \n",
       "2                       0                 NaN                 NaN  \n",
       "3                      12                 NaN                 NaN  \n",
       "4                     NaN                 NaN                 NaN  \n",
       "\n",
       "[5 rows x 163 columns]"
      ]
     },
     "execution_count": 3,
     "metadata": {},
     "output_type": "execute_result"
    }
   ],
   "source": [
    "food.head()"
   ]
  },
  {
   "cell_type": "markdown",
   "id": "4e4c74b9",
   "metadata": {
    "papermill": {
     "duration": 0.007318,
     "end_time": "2024-03-17T19:31:49.771621",
     "exception": false,
     "start_time": "2024-03-17T19:31:49.764303",
     "status": "completed"
    },
    "tags": []
   },
   "source": [
    "### Step 5. What is the number of observations in the dataset?"
   ]
  },
  {
   "cell_type": "code",
   "execution_count": 4,
   "id": "906f0604",
   "metadata": {
    "execution": {
     "iopub.execute_input": "2024-03-17T19:31:49.789072Z",
     "iopub.status.busy": "2024-03-17T19:31:49.788598Z",
     "iopub.status.idle": "2024-03-17T19:31:49.794664Z",
     "shell.execute_reply": "2024-03-17T19:31:49.793412Z"
    },
    "papermill": {
     "duration": 0.017915,
     "end_time": "2024-03-17T19:31:49.797369",
     "exception": false,
     "start_time": "2024-03-17T19:31:49.779454",
     "status": "completed"
    },
    "tags": []
   },
   "outputs": [
    {
     "name": "stdout",
     "output_type": "stream",
     "text": [
      "Number of observations: 356027\n"
     ]
    }
   ],
   "source": [
    "\n",
    "num_observations = food.shape[0]\n",
    "\n",
    "print(\"Number of observations:\", num_observations)\n"
   ]
  },
  {
   "cell_type": "markdown",
   "id": "086b244c",
   "metadata": {
    "papermill": {
     "duration": 0.008471,
     "end_time": "2024-03-17T19:31:49.813582",
     "exception": false,
     "start_time": "2024-03-17T19:31:49.805111",
     "status": "completed"
    },
    "tags": []
   },
   "source": [
    "### Step 6. What is the number of columns in the dataset?"
   ]
  },
  {
   "cell_type": "code",
   "execution_count": 5,
   "id": "8dd178f3",
   "metadata": {
    "execution": {
     "iopub.execute_input": "2024-03-17T19:31:49.830775Z",
     "iopub.status.busy": "2024-03-17T19:31:49.830329Z",
     "iopub.status.idle": "2024-03-17T19:31:49.836044Z",
     "shell.execute_reply": "2024-03-17T19:31:49.835113Z"
    },
    "papermill": {
     "duration": 0.0181,
     "end_time": "2024-03-17T19:31:49.839413",
     "exception": false,
     "start_time": "2024-03-17T19:31:49.821313",
     "status": "completed"
    },
    "tags": []
   },
   "outputs": [
    {
     "name": "stdout",
     "output_type": "stream",
     "text": [
      "Number of columns: 163\n"
     ]
    }
   ],
   "source": [
    "\n",
    "num_columns = food.shape[1]\n",
    "\n",
    "print(\"Number of columns:\", num_columns)\n"
   ]
  },
  {
   "cell_type": "markdown",
   "id": "0c0dbeaa",
   "metadata": {
    "papermill": {
     "duration": 0.007842,
     "end_time": "2024-03-17T19:31:49.855442",
     "exception": false,
     "start_time": "2024-03-17T19:31:49.847600",
     "status": "completed"
    },
    "tags": []
   },
   "source": [
    "### Step 7. Print the name of all the columns."
   ]
  },
  {
   "cell_type": "code",
   "execution_count": 6,
   "id": "f9de94b0",
   "metadata": {
    "execution": {
     "iopub.execute_input": "2024-03-17T19:31:49.873130Z",
     "iopub.status.busy": "2024-03-17T19:31:49.872727Z",
     "iopub.status.idle": "2024-03-17T19:31:49.879991Z",
     "shell.execute_reply": "2024-03-17T19:31:49.878759Z"
    },
    "papermill": {
     "duration": 0.020179,
     "end_time": "2024-03-17T19:31:49.883734",
     "exception": false,
     "start_time": "2024-03-17T19:31:49.863555",
     "status": "completed"
    },
    "tags": []
   },
   "outputs": [
    {
     "name": "stdout",
     "output_type": "stream",
     "text": [
      "Column names:\n",
      "code\n",
      "url\n",
      "creator\n",
      "created_t\n",
      "created_datetime\n",
      "last_modified_t\n",
      "last_modified_datetime\n",
      "product_name\n",
      "generic_name\n",
      "quantity\n",
      "packaging\n",
      "packaging_tags\n",
      "brands\n",
      "brands_tags\n",
      "categories\n",
      "categories_tags\n",
      "categories_en\n",
      "origins\n",
      "origins_tags\n",
      "manufacturing_places\n",
      "manufacturing_places_tags\n",
      "labels\n",
      "labels_tags\n",
      "labels_en\n",
      "emb_codes\n",
      "emb_codes_tags\n",
      "first_packaging_code_geo\n",
      "cities\n",
      "cities_tags\n",
      "purchase_places\n",
      "stores\n",
      "countries\n",
      "countries_tags\n",
      "countries_en\n",
      "ingredients_text\n",
      "allergens\n",
      "allergens_en\n",
      "traces\n",
      "traces_tags\n",
      "traces_en\n",
      "serving_size\n",
      "no_nutriments\n",
      "additives_n\n",
      "additives\n",
      "additives_tags\n",
      "additives_en\n",
      "ingredients_from_palm_oil_n\n",
      "ingredients_from_palm_oil\n",
      "ingredients_from_palm_oil_tags\n",
      "ingredients_that_may_be_from_palm_oil_n\n",
      "ingredients_that_may_be_from_palm_oil\n",
      "ingredients_that_may_be_from_palm_oil_tags\n",
      "nutrition_grade_uk\n",
      "nutrition_grade_fr\n",
      "pnns_groups_1\n",
      "pnns_groups_2\n",
      "states\n",
      "states_tags\n",
      "states_en\n",
      "main_category\n",
      "main_category_en\n",
      "image_url\n",
      "image_small_url\n",
      "energy_100g\n",
      "energy-from-fat_100g\n",
      "fat_100g\n",
      "saturated-fat_100g\n",
      "-butyric-acid_100g\n",
      "-caproic-acid_100g\n",
      "-caprylic-acid_100g\n",
      "-capric-acid_100g\n",
      "-lauric-acid_100g\n",
      "-myristic-acid_100g\n",
      "-palmitic-acid_100g\n",
      "-stearic-acid_100g\n",
      "-arachidic-acid_100g\n",
      "-behenic-acid_100g\n",
      "-lignoceric-acid_100g\n",
      "-cerotic-acid_100g\n",
      "-montanic-acid_100g\n",
      "-melissic-acid_100g\n",
      "monounsaturated-fat_100g\n",
      "polyunsaturated-fat_100g\n",
      "omega-3-fat_100g\n",
      "-alpha-linolenic-acid_100g\n",
      "-eicosapentaenoic-acid_100g\n",
      "-docosahexaenoic-acid_100g\n",
      "omega-6-fat_100g\n",
      "-linoleic-acid_100g\n",
      "-arachidonic-acid_100g\n",
      "-gamma-linolenic-acid_100g\n",
      "-dihomo-gamma-linolenic-acid_100g\n",
      "omega-9-fat_100g\n",
      "-oleic-acid_100g\n",
      "-elaidic-acid_100g\n",
      "-gondoic-acid_100g\n",
      "-mead-acid_100g\n",
      "-erucic-acid_100g\n",
      "-nervonic-acid_100g\n",
      "trans-fat_100g\n",
      "cholesterol_100g\n",
      "carbohydrates_100g\n",
      "sugars_100g\n",
      "-sucrose_100g\n",
      "-glucose_100g\n",
      "-fructose_100g\n",
      "-lactose_100g\n",
      "-maltose_100g\n",
      "-maltodextrins_100g\n",
      "starch_100g\n",
      "polyols_100g\n",
      "fiber_100g\n",
      "proteins_100g\n",
      "casein_100g\n",
      "serum-proteins_100g\n",
      "nucleotides_100g\n",
      "salt_100g\n",
      "sodium_100g\n",
      "alcohol_100g\n",
      "vitamin-a_100g\n",
      "beta-carotene_100g\n",
      "vitamin-d_100g\n",
      "vitamin-e_100g\n",
      "vitamin-k_100g\n",
      "vitamin-c_100g\n",
      "vitamin-b1_100g\n",
      "vitamin-b2_100g\n",
      "vitamin-pp_100g\n",
      "vitamin-b6_100g\n",
      "vitamin-b9_100g\n",
      "folates_100g\n",
      "vitamin-b12_100g\n",
      "biotin_100g\n",
      "pantothenic-acid_100g\n",
      "silica_100g\n",
      "bicarbonate_100g\n",
      "potassium_100g\n",
      "chloride_100g\n",
      "calcium_100g\n",
      "phosphorus_100g\n",
      "iron_100g\n",
      "magnesium_100g\n",
      "zinc_100g\n",
      "copper_100g\n",
      "manganese_100g\n",
      "fluoride_100g\n",
      "selenium_100g\n",
      "chromium_100g\n",
      "molybdenum_100g\n",
      "iodine_100g\n",
      "caffeine_100g\n",
      "taurine_100g\n",
      "ph_100g\n",
      "fruits-vegetables-nuts_100g\n",
      "fruits-vegetables-nuts-estimate_100g\n",
      "collagen-meat-protein-ratio_100g\n",
      "cocoa_100g\n",
      "chlorophyl_100g\n",
      "carbon-footprint_100g\n",
      "nutrition-score-fr_100g\n",
      "nutrition-score-uk_100g\n",
      "glycemic-index_100g\n",
      "water-hardness_100g\n"
     ]
    }
   ],
   "source": [
    "\n",
    "print(\"Column names:\")\n",
    "for column_name in food.columns:\n",
    "    print(column_name)\n"
   ]
  },
  {
   "cell_type": "markdown",
   "id": "6fa79efa",
   "metadata": {
    "papermill": {
     "duration": 0.008277,
     "end_time": "2024-03-17T19:31:49.900295",
     "exception": false,
     "start_time": "2024-03-17T19:31:49.892018",
     "status": "completed"
    },
    "tags": []
   },
   "source": [
    "### Step 8. What is the name of 105th column?"
   ]
  },
  {
   "cell_type": "code",
   "execution_count": 7,
   "id": "2b807865",
   "metadata": {
    "execution": {
     "iopub.execute_input": "2024-03-17T19:31:49.925641Z",
     "iopub.status.busy": "2024-03-17T19:31:49.925257Z",
     "iopub.status.idle": "2024-03-17T19:31:49.931773Z",
     "shell.execute_reply": "2024-03-17T19:31:49.930587Z"
    },
    "papermill": {
     "duration": 0.027727,
     "end_time": "2024-03-17T19:31:49.939933",
     "exception": false,
     "start_time": "2024-03-17T19:31:49.912206",
     "status": "completed"
    },
    "tags": []
   },
   "outputs": [
    {
     "name": "stdout",
     "output_type": "stream",
     "text": [
      "Name of the 105th column: -glucose_100g\n"
     ]
    }
   ],
   "source": [
    "\n",
    "column_105_name = food.columns[104]\n",
    "\n",
    "print(\"Name of the 105th column:\", column_105_name)\n",
    "\n"
   ]
  },
  {
   "cell_type": "markdown",
   "id": "26401c6c",
   "metadata": {
    "papermill": {
     "duration": 0.008399,
     "end_time": "2024-03-17T19:31:49.960396",
     "exception": false,
     "start_time": "2024-03-17T19:31:49.951997",
     "status": "completed"
    },
    "tags": []
   },
   "source": [
    "### Step 9. What is the type of the observations of the 105th column?"
   ]
  },
  {
   "cell_type": "code",
   "execution_count": 8,
   "id": "6e7ef7cc",
   "metadata": {
    "execution": {
     "iopub.execute_input": "2024-03-17T19:31:49.983270Z",
     "iopub.status.busy": "2024-03-17T19:31:49.981759Z",
     "iopub.status.idle": "2024-03-17T19:31:49.990184Z",
     "shell.execute_reply": "2024-03-17T19:31:49.989229Z"
    },
    "papermill": {
     "duration": 0.024426,
     "end_time": "2024-03-17T19:31:49.995037",
     "exception": false,
     "start_time": "2024-03-17T19:31:49.970611",
     "status": "completed"
    },
    "tags": []
   },
   "outputs": [
    {
     "name": "stdout",
     "output_type": "stream",
     "text": [
      "Type of observations in the 105th column: object\n"
     ]
    },
    {
     "name": "stderr",
     "output_type": "stream",
     "text": [
      "/tmp/ipykernel_18/728728181.py:1: FutureWarning: Series.__getitem__ treating keys as positions is deprecated. In a future version, integer keys will always be treated as labels (consistent with DataFrame behavior). To access a value by position, use `ser.iloc[pos]`\n",
      "  column_105_type = food.dtypes[104]\n"
     ]
    }
   ],
   "source": [
    "\n",
    "column_105_type = food.dtypes[104]\n",
    "\n",
    "print(\"Type of observations in the 105th column:\", column_105_type)\n"
   ]
  },
  {
   "cell_type": "code",
   "execution_count": 9,
   "id": "d9f69b49",
   "metadata": {
    "execution": {
     "iopub.execute_input": "2024-03-17T19:31:50.014947Z",
     "iopub.status.busy": "2024-03-17T19:31:50.014280Z",
     "iopub.status.idle": "2024-03-17T19:31:50.020616Z",
     "shell.execute_reply": "2024-03-17T19:31:50.019442Z"
    },
    "papermill": {
     "duration": 0.019385,
     "end_time": "2024-03-17T19:31:50.023266",
     "exception": false,
     "start_time": "2024-03-17T19:31:50.003881",
     "status": "completed"
    },
    "tags": []
   },
   "outputs": [
    {
     "name": "stdout",
     "output_type": "stream",
     "text": [
      "Type of observations in the 105th column: object\n"
     ]
    }
   ],
   "source": [
    "\n",
    "column_105_type = food.dtypes.iloc[104]\n",
    "\n",
    "print(\"Type of observations in the 105th column:\", column_105_type)\n"
   ]
  },
  {
   "cell_type": "markdown",
   "id": "cf1cf370",
   "metadata": {
    "papermill": {
     "duration": 0.008482,
     "end_time": "2024-03-17T19:31:50.040548",
     "exception": false,
     "start_time": "2024-03-17T19:31:50.032066",
     "status": "completed"
    },
    "tags": []
   },
   "source": [
    "### Step 10. How is the dataset indexed?"
   ]
  },
  {
   "cell_type": "code",
   "execution_count": 10,
   "id": "b9c0d428",
   "metadata": {
    "execution": {
     "iopub.execute_input": "2024-03-17T19:31:50.060115Z",
     "iopub.status.busy": "2024-03-17T19:31:50.059693Z",
     "iopub.status.idle": "2024-03-17T19:31:50.065757Z",
     "shell.execute_reply": "2024-03-17T19:31:50.064353Z"
    },
    "papermill": {
     "duration": 0.019068,
     "end_time": "2024-03-17T19:31:50.068256",
     "exception": false,
     "start_time": "2024-03-17T19:31:50.049188",
     "status": "completed"
    },
    "tags": []
   },
   "outputs": [
    {
     "name": "stdout",
     "output_type": "stream",
     "text": [
      "Type of index: <class 'pandas.core.indexes.range.RangeIndex'>\n"
     ]
    }
   ],
   "source": [
    "\n",
    "index_type = type(food.index)\n",
    "\n",
    "print(\"Type of index:\", index_type)\n"
   ]
  },
  {
   "cell_type": "markdown",
   "id": "2767c8c4",
   "metadata": {
    "papermill": {
     "duration": 0.00862,
     "end_time": "2024-03-17T19:31:50.085671",
     "exception": false,
     "start_time": "2024-03-17T19:31:50.077051",
     "status": "completed"
    },
    "tags": []
   },
   "source": [
    "### Step 11. What is the product name of the 19th observation?"
   ]
  },
  {
   "cell_type": "code",
   "execution_count": 11,
   "id": "e306e1c9",
   "metadata": {
    "execution": {
     "iopub.execute_input": "2024-03-17T19:31:50.104908Z",
     "iopub.status.busy": "2024-03-17T19:31:50.104451Z",
     "iopub.status.idle": "2024-03-17T19:31:50.110351Z",
     "shell.execute_reply": "2024-03-17T19:31:50.109305Z"
    },
    "papermill": {
     "duration": 0.018799,
     "end_time": "2024-03-17T19:31:50.113106",
     "exception": false,
     "start_time": "2024-03-17T19:31:50.094307",
     "status": "completed"
    },
    "tags": []
   },
   "outputs": [
    {
     "name": "stdout",
     "output_type": "stream",
     "text": [
      "Product name of the 19th observation: 0000000018197\n"
     ]
    }
   ],
   "source": [
    "\n",
    "product_name_19th = food.iloc[18, 0]  \n",
    "\n",
    "print(\"Product name of the 19th observation:\", product_name_19th)\n"
   ]
  },
  {
   "cell_type": "code",
   "execution_count": null,
   "id": "1f195900",
   "metadata": {
    "papermill": {
     "duration": 0.008388,
     "end_time": "2024-03-17T19:31:50.130372",
     "exception": false,
     "start_time": "2024-03-17T19:31:50.121984",
     "status": "completed"
    },
    "tags": []
   },
   "outputs": [],
   "source": []
  }
 ],
 "metadata": {
  "anaconda-cloud": {},
  "kaggle": {
   "accelerator": "none",
   "dataSources": [
    {
     "datasetId": 20,
     "sourceId": 4275,
     "sourceType": "datasetVersion"
    }
   ],
   "dockerImageVersionId": 30664,
   "isGpuEnabled": false,
   "isInternetEnabled": true,
   "language": "python",
   "sourceType": "notebook"
  },
  "kernelspec": {
   "display_name": "Python 3",
   "language": "python",
   "name": "python3"
  },
  "language_info": {
   "codemirror_mode": {
    "name": "ipython",
    "version": 3
   },
   "file_extension": ".py",
   "mimetype": "text/x-python",
   "name": "python",
   "nbconvert_exporter": "python",
   "pygments_lexer": "ipython3",
   "version": "3.10.13"
  },
  "papermill": {
   "default_parameters": {},
   "duration": 50.77155,
   "end_time": "2024-03-17T19:31:51.062302",
   "environment_variables": {},
   "exception": null,
   "input_path": "__notebook__.ipynb",
   "output_path": "__notebook__.ipynb",
   "parameters": {},
   "start_time": "2024-03-17T19:31:00.290752",
   "version": "2.5.0"
  }
 },
 "nbformat": 4,
 "nbformat_minor": 5
}
